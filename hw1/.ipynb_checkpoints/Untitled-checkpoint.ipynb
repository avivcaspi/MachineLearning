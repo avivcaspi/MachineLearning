{
 "cells": [
  {
   "cell_type": "code",
   "execution_count": 176,
   "metadata": {},
   "outputs": [
    {
     "name": "stdout",
     "output_type": "stream",
     "text": [
      "The autoreload extension is already loaded. To reload it, use:\n",
      "  %reload_ext autoreload\n"
     ]
    }
   ],
   "source": [
    "import numpy as np\n",
    "import matplotlib.pyplot as plt\n",
    "import pandas as pd\n",
    "from scipy import stats\n",
    "import os \n",
    "from data_preperation import *\n",
    "\n",
    "\n",
    "%matplotlib inline\n",
    "%load_ext autoreload\n",
    "%autoreload 2"
   ]
  },
  {
   "cell_type": "code",
   "execution_count": 177,
   "metadata": {},
   "outputs": [
    {
     "data": {
      "text/html": [
       "<div>\n",
       "<style scoped>\n",
       "    .dataframe tbody tr th:only-of-type {\n",
       "        vertical-align: middle;\n",
       "    }\n",
       "\n",
       "    .dataframe tbody tr th {\n",
       "        vertical-align: top;\n",
       "    }\n",
       "\n",
       "    .dataframe thead th {\n",
       "        text-align: right;\n",
       "    }\n",
       "</style>\n",
       "<table border=\"1\" class=\"dataframe\">\n",
       "  <thead>\n",
       "    <tr style=\"text-align: right;\">\n",
       "      <th></th>\n",
       "      <th>Vote</th>\n",
       "      <th>Occupation_Satisfaction</th>\n",
       "      <th>Avg_monthly_expense_when_under_age_21</th>\n",
       "      <th>Avg_lottary_expanses</th>\n",
       "      <th>Age_group</th>\n",
       "      <th>Avg_monthly_expense_on_pets_or_plants</th>\n",
       "      <th>Looking_at_poles_results</th>\n",
       "      <th>Avg_environmental_importance</th>\n",
       "      <th>Married</th>\n",
       "      <th>Gender</th>\n",
       "      <th>...</th>\n",
       "      <th>Last_school_grades</th>\n",
       "      <th>Most_Important_Issue</th>\n",
       "      <th>Number_of_differnt_parties_voted_for</th>\n",
       "      <th>Political_interest_Total_Score</th>\n",
       "      <th>Number_of_valued_Kneset_members</th>\n",
       "      <th>Main_transportation</th>\n",
       "      <th>Occupation</th>\n",
       "      <th>Financial_agenda_matters</th>\n",
       "      <th>Num_of_kids_born_last_10_years</th>\n",
       "      <th>Overall_happiness_score</th>\n",
       "    </tr>\n",
       "  </thead>\n",
       "  <tbody>\n",
       "    <tr>\n",
       "      <th>0</th>\n",
       "      <td>Violets</td>\n",
       "      <td>1.0</td>\n",
       "      <td>113.445801</td>\n",
       "      <td>1688.510190</td>\n",
       "      <td>Below_30</td>\n",
       "      <td>1477.809692</td>\n",
       "      <td>Yes</td>\n",
       "      <td>202.042787</td>\n",
       "      <td>Yes</td>\n",
       "      <td>Male</td>\n",
       "      <td>...</td>\n",
       "      <td>60.0</td>\n",
       "      <td>Financial</td>\n",
       "      <td>12.0</td>\n",
       "      <td>683.760440</td>\n",
       "      <td>1.0</td>\n",
       "      <td>Public_or_other</td>\n",
       "      <td>Industry_or_other</td>\n",
       "      <td>No</td>\n",
       "      <td>1.0</td>\n",
       "      <td>392.803101</td>\n",
       "    </tr>\n",
       "    <tr>\n",
       "      <th>1</th>\n",
       "      <td>Browns</td>\n",
       "      <td>2.0</td>\n",
       "      <td>161.720841</td>\n",
       "      <td>696.069582</td>\n",
       "      <td>Below_30</td>\n",
       "      <td>2969.865888</td>\n",
       "      <td>Yes</td>\n",
       "      <td>88.942300</td>\n",
       "      <td>Yes</td>\n",
       "      <td>Male</td>\n",
       "      <td>...</td>\n",
       "      <td>60.0</td>\n",
       "      <td>Financial</td>\n",
       "      <td>9.0</td>\n",
       "      <td>793.017823</td>\n",
       "      <td>2.0</td>\n",
       "      <td>Car</td>\n",
       "      <td>Industry_or_other</td>\n",
       "      <td>No</td>\n",
       "      <td>0.0</td>\n",
       "      <td>41.028616</td>\n",
       "    </tr>\n",
       "    <tr>\n",
       "      <th>2</th>\n",
       "      <td>Greens</td>\n",
       "      <td>6.0</td>\n",
       "      <td>524.947117</td>\n",
       "      <td>50048.853880</td>\n",
       "      <td>30-45</td>\n",
       "      <td>30803.812970</td>\n",
       "      <td>No</td>\n",
       "      <td>789.796962</td>\n",
       "      <td>Yes</td>\n",
       "      <td>Female</td>\n",
       "      <td>...</td>\n",
       "      <td>80.0</td>\n",
       "      <td>Healthcare</td>\n",
       "      <td>10.0</td>\n",
       "      <td>253.102383</td>\n",
       "      <td>1.0</td>\n",
       "      <td>Motorcycle_or_truck</td>\n",
       "      <td>Services_or_Retail</td>\n",
       "      <td>No</td>\n",
       "      <td>0.0</td>\n",
       "      <td>635.000942</td>\n",
       "    </tr>\n",
       "    <tr>\n",
       "      <th>3</th>\n",
       "      <td>Whites</td>\n",
       "      <td>1.0</td>\n",
       "      <td>521.454363</td>\n",
       "      <td>50265.185360</td>\n",
       "      <td>Below_30</td>\n",
       "      <td>30396.557250</td>\n",
       "      <td>No</td>\n",
       "      <td>565.727946</td>\n",
       "      <td>Yes</td>\n",
       "      <td>Male</td>\n",
       "      <td>...</td>\n",
       "      <td>NaN</td>\n",
       "      <td>Social</td>\n",
       "      <td>8.0</td>\n",
       "      <td>278.904297</td>\n",
       "      <td>1.0</td>\n",
       "      <td>Car</td>\n",
       "      <td>Services_or_Retail</td>\n",
       "      <td>No</td>\n",
       "      <td>0.0</td>\n",
       "      <td>502.278182</td>\n",
       "    </tr>\n",
       "    <tr>\n",
       "      <th>4</th>\n",
       "      <td>Browns</td>\n",
       "      <td>6.0</td>\n",
       "      <td>210.879361</td>\n",
       "      <td>7793.195795</td>\n",
       "      <td>30-45</td>\n",
       "      <td>5021.415879</td>\n",
       "      <td>No</td>\n",
       "      <td>423.589896</td>\n",
       "      <td>Yes</td>\n",
       "      <td>Female</td>\n",
       "      <td>...</td>\n",
       "      <td>70.0</td>\n",
       "      <td>Social</td>\n",
       "      <td>11.0</td>\n",
       "      <td>605.564038</td>\n",
       "      <td>4.0</td>\n",
       "      <td>Car</td>\n",
       "      <td>Public_Sector</td>\n",
       "      <td>No</td>\n",
       "      <td>2.0</td>\n",
       "      <td>40.469037</td>\n",
       "    </tr>\n",
       "  </tbody>\n",
       "</table>\n",
       "<p>5 rows × 38 columns</p>\n",
       "</div>"
      ],
      "text/plain": [
       "      Vote  Occupation_Satisfaction  Avg_monthly_expense_when_under_age_21  \\\n",
       "0  Violets                      1.0                             113.445801   \n",
       "1   Browns                      2.0                             161.720841   \n",
       "2   Greens                      6.0                             524.947117   \n",
       "3   Whites                      1.0                             521.454363   \n",
       "4   Browns                      6.0                             210.879361   \n",
       "\n",
       "   Avg_lottary_expanses Age_group  Avg_monthly_expense_on_pets_or_plants  \\\n",
       "0           1688.510190  Below_30                            1477.809692   \n",
       "1            696.069582  Below_30                            2969.865888   \n",
       "2          50048.853880     30-45                           30803.812970   \n",
       "3          50265.185360  Below_30                           30396.557250   \n",
       "4           7793.195795     30-45                            5021.415879   \n",
       "\n",
       "  Looking_at_poles_results  Avg_environmental_importance Married  Gender  ...  \\\n",
       "0                      Yes                    202.042787     Yes    Male  ...   \n",
       "1                      Yes                     88.942300     Yes    Male  ...   \n",
       "2                       No                    789.796962     Yes  Female  ...   \n",
       "3                       No                    565.727946     Yes    Male  ...   \n",
       "4                       No                    423.589896     Yes  Female  ...   \n",
       "\n",
       "  Last_school_grades  Most_Important_Issue  \\\n",
       "0               60.0             Financial   \n",
       "1               60.0             Financial   \n",
       "2               80.0            Healthcare   \n",
       "3                NaN                Social   \n",
       "4               70.0                Social   \n",
       "\n",
       "   Number_of_differnt_parties_voted_for  Political_interest_Total_Score  \\\n",
       "0                                  12.0                      683.760440   \n",
       "1                                   9.0                      793.017823   \n",
       "2                                  10.0                      253.102383   \n",
       "3                                   8.0                      278.904297   \n",
       "4                                  11.0                      605.564038   \n",
       "\n",
       "   Number_of_valued_Kneset_members  Main_transportation          Occupation  \\\n",
       "0                              1.0      Public_or_other   Industry_or_other   \n",
       "1                              2.0                  Car   Industry_or_other   \n",
       "2                              1.0  Motorcycle_or_truck  Services_or_Retail   \n",
       "3                              1.0                  Car  Services_or_Retail   \n",
       "4                              4.0                  Car       Public_Sector   \n",
       "\n",
       "   Financial_agenda_matters  Num_of_kids_born_last_10_years  \\\n",
       "0                        No                             1.0   \n",
       "1                        No                             0.0   \n",
       "2                        No                             0.0   \n",
       "3                        No                             0.0   \n",
       "4                        No                             2.0   \n",
       "\n",
       "   Overall_happiness_score  \n",
       "0               392.803101  \n",
       "1                41.028616  \n",
       "2               635.000942  \n",
       "3               502.278182  \n",
       "4                40.469037  \n",
       "\n",
       "[5 rows x 38 columns]"
      ]
     },
     "execution_count": 177,
     "metadata": {},
     "output_type": "execute_result"
    }
   ],
   "source": [
    "data_original = pd.read_csv('ElectionsData.csv', header=0)\n",
    "data_original.head()"
   ]
  },
  {
   "cell_type": "code",
   "execution_count": 178,
   "metadata": {},
   "outputs": [],
   "source": [
    "discrete_features = ['Occupation_Satisfaction', 'Last_school_grades', 'Number_of_differnt_parties_voted_for', 'Number_of_valued_Kneset_members', 'Num_of_kids_born_last_10_years']\n",
    "continuous_features = ['Avg_monthly_expense_when_under_age_21', 'Avg_lottary_expanses', 'Avg_monthly_expense_on_pets_or_plants', 'Avg_environmental_importance',\n",
    "                      'Financial_balance_score_(0-1)', '%Of_Household_Income', 'Yearly_IncomeK', 'Avg_size_per_room', 'Garden_sqr_meter_per_person_in_residancy_area', 'Avg_Residancy_Altitude',\n",
    "                      'Yearly_ExpensesK', '%Time_invested_in_work', 'Avg_education_importance', 'Avg_Satisfaction_with_previous_vote', \n",
    "                      'Avg_monthly_household_cost', 'Phone_minutes_10_years', 'Avg_government_satisfaction', 'Weighted_education_rank', '%_satisfaction_financial_policy',\n",
    "                      'Avg_monthly_income_all_years', 'Political_interest_Total_Score', 'Overall_happiness_score']\n",
    "nominal_features = ['Vote', 'Will_vote_only_large_party', 'Age_group', 'Voting_Time']\n",
    "onehot_nominal_features = ['Most_Important_Issue', 'Main_transportation', 'Occupation']\n",
    "binary_features = ['Gender', 'Looking_at_poles_results', 'Married', 'Financial_agenda_matters']\n",
    "\n",
    "numerical_features = discrete_features + continuous_features\n",
    "total_nominal_features = nominal_features + onehot_nominal_features + binary_features"
   ]
  },
  {
   "cell_type": "code",
   "execution_count": 179,
   "metadata": {},
   "outputs": [],
   "source": [
    "uniform_features = ['Occupation_Satisfaction', 'Financial_balance_score_(0-1)',\n",
    "                    '%Of_Household_Income', 'Yearly_IncomeK', 'Avg_government_satisfaction',\n",
    "                    '%_satisfaction_financial_policy', 'Garden_sqr_meter_per_person_in_residancy_area',\n",
    "                    'Yearly_ExpensesK', '%Time_invested_in_work']\n",
    "normal_features = ['Number_of_differnt_parties_voted_for', 'Number_of_valued_Kneset_members',\n",
    "                   'Avg_environmental_importance',\n",
    "                   'Avg_education_importance', 'Avg_monthly_household_cost', 'Weighted_education_rank',\n",
    "                   'Overall_happiness_score', 'Avg_size_per_room', 'Avg_Residancy_Altitude']\n",
    "unknown_features = ['Last_school_grades', 'Num_of_kids_born_last_10_years',\n",
    "                    'Avg_monthly_expense_when_under_age_21', 'Avg_lottary_expanses',\n",
    "                    'Avg_monthly_expense_on_pets_or_plants', 'Avg_Satisfaction_with_previous_vote',\n",
    "                    'Phone_minutes_10_years', 'Avg_monthly_income_all_years', 'Political_interest_Total_Score']\n"
   ]
  },
  {
   "cell_type": "code",
   "execution_count": 203,
   "metadata": {},
   "outputs": [],
   "source": [
    "data = data_original.copy()\n",
    "\n",
    "data = convert_to_onehot(data, onehot_nominal_features)"
   ]
  },
  {
   "cell_type": "code",
   "execution_count": 204,
   "metadata": {},
   "outputs": [],
   "source": [
    "data = convert_to_categorial(data)"
   ]
  },
  {
   "cell_type": "code",
   "execution_count": 205,
   "metadata": {},
   "outputs": [],
   "source": [
    "# Split\n",
    "\n"
   ]
  },
  {
   "cell_type": "code",
   "execution_count": 206,
   "metadata": {},
   "outputs": [
    {
     "name": "stdout",
     "output_type": "stream",
     "text": [
      "282\n",
      "0\n"
     ]
    }
   ],
   "source": [
    "# Cleansing\n",
    "\n",
    "print((data.dropna().values < 0).sum())\n",
    "data = remove_negative(data)\n",
    "print((data.dropna().values < 0).sum())\n",
    "data = remove_outlier(data, 3)\n"
   ]
  },
  {
   "cell_type": "code",
   "execution_count": 207,
   "metadata": {},
   "outputs": [
    {
     "name": "stdout",
     "output_type": "stream",
     "text": [
      "7494\n"
     ]
    },
    {
     "data": {
      "text/plain": [
       "0"
      ]
     },
     "execution_count": 207,
     "metadata": {},
     "output_type": "execute_result"
    }
   ],
   "source": [
    "#Imputation\n",
    "\n",
    "print(data.isnull().values.sum())\n",
    "data = imputation(data)\n",
    "data.isnull().values.sum()\n"
   ]
  },
  {
   "cell_type": "code",
   "execution_count": null,
   "metadata": {},
   "outputs": [],
   "source": []
  },
  {
   "cell_type": "code",
   "execution_count": 245,
   "metadata": {},
   "outputs": [],
   "source": [
    "#Test for SFS algorithem\n",
    "from feature_selection import SFS\n",
    "from sklearn.ensemble import RandomForestClassifier \n",
    "\n",
    "forest = RandomForestClassifier(n_estimators = 3)\n",
    "x_train = data.loc[:, data.columns != 'Vote'].values[:9000].astype(int)\n",
    "y_train = data['Vote'].values[:9000].astype(int)\n",
    "x_test = data.loc[:, data.columns != 'Vote'].values[9000:].astype(int)\n",
    "y_test = data['Vote'].values[9000:].astype(int)\n",
    "selected_features = SFS(forest, x_train,y_train,x_test,y_test) \n",
    "names = data.iloc[:, 1:].columns.values\n",
    "chosen_features = [names[index] for index in selected_features]"
   ]
  },
  {
   "cell_type": "code",
   "execution_count": 246,
   "metadata": {},
   "outputs": [
    {
     "data": {
      "text/plain": [
       "['Avg_monthly_expense_on_pets_or_plants',\n",
       " 'Avg_size_per_room',\n",
       " 'Avg_monthly_household_cost',\n",
       " 'Weighted_education_rank',\n",
       " 'Last_school_grades',\n",
       " 'Number_of_differnt_parties_voted_for',\n",
       " 'Overall_happiness_score']"
      ]
     },
     "execution_count": 246,
     "metadata": {},
     "output_type": "execute_result"
    }
   ],
   "source": [
    "chosen_features"
   ]
  },
  {
   "cell_type": "code",
   "execution_count": null,
   "metadata": {},
   "outputs": [],
   "source": []
  }
 ],
 "metadata": {
  "kernelspec": {
   "display_name": "Python 3",
   "language": "python",
   "name": "python3"
  },
  "language_info": {
   "codemirror_mode": {
    "name": "ipython",
    "version": 3
   },
   "file_extension": ".py",
   "mimetype": "text/x-python",
   "name": "python",
   "nbconvert_exporter": "python",
   "pygments_lexer": "ipython3",
   "version": "3.7.7"
  }
 },
 "nbformat": 4,
 "nbformat_minor": 4
}
