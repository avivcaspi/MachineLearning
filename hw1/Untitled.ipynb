{
 "cells": [
  {
   "cell_type": "code",
   "execution_count": null,
   "metadata": {},
   "outputs": [],
   "source": [
    "import numpy as np\n",
    "import matplotlib.pyplot as plt\n",
    "import pandas as pd\n",
    "from scipy import stats\n",
    "import os \n",
    "import sklearn\n",
    "from data_preperation import *\n",
    "\n",
    "\n",
    "%matplotlib inline\n",
    "%load_ext autoreload\n",
    "%autoreload 2"
   ]
  },
  {
   "cell_type": "code",
   "execution_count": null,
   "metadata": {},
   "outputs": [],
   "source": [
    "data_original = pd.read_csv('ElectionsData.csv', header=0)\n",
    "data_original.head()"
   ]
  },
  {
   "cell_type": "code",
   "execution_count": null,
   "metadata": {},
   "outputs": [],
   "source": [
    "discrete_features = ['Occupation_Satisfaction', 'Last_school_grades', 'Number_of_differnt_parties_voted_for', 'Number_of_valued_Kneset_members', 'Num_of_kids_born_last_10_years']\n",
    "continuous_features = ['Avg_monthly_expense_when_under_age_21', 'Avg_lottary_expanses', 'Avg_monthly_expense_on_pets_or_plants', 'Avg_environmental_importance',\n",
    "                      'Financial_balance_score_(0-1)', '%Of_Household_Income', 'Yearly_IncomeK', 'Avg_size_per_room', 'Garden_sqr_meter_per_person_in_residancy_area', 'Avg_Residancy_Altitude',\n",
    "                      'Yearly_ExpensesK', '%Time_invested_in_work', 'Avg_education_importance', 'Avg_Satisfaction_with_previous_vote', \n",
    "                      'Avg_monthly_household_cost', 'Phone_minutes_10_years', 'Avg_government_satisfaction', 'Weighted_education_rank', '%_satisfaction_financial_policy',\n",
    "                      'Avg_monthly_income_all_years', 'Political_interest_Total_Score', 'Overall_happiness_score']\n",
    "nominal_features = ['Vote', 'Will_vote_only_large_party', 'Age_group', 'Voting_Time']\n",
    "onehot_nominal_features = ['Most_Important_Issue', 'Main_transportation', 'Occupation']\n",
    "binary_features = ['Gender', 'Looking_at_poles_results', 'Married', 'Financial_agenda_matters']\n",
    "\n",
    "numerical_features = discrete_features + continuous_features\n",
    "total_nominal_features = nominal_features + onehot_nominal_features + binary_features"
   ]
  },
  {
   "cell_type": "code",
   "execution_count": null,
   "metadata": {},
   "outputs": [],
   "source": [
    "uniform_features = ['Occupation_Satisfaction', 'Financial_balance_score_(0-1)',\n",
    "                    '%Of_Household_Income', 'Yearly_IncomeK', 'Avg_government_satisfaction',\n",
    "                    '%_satisfaction_financial_policy', 'Garden_sqr_meter_per_person_in_residancy_area',\n",
    "                    'Yearly_ExpensesK', '%Time_invested_in_work']\n",
    "normal_features = ['Number_of_differnt_parties_voted_for', 'Number_of_valued_Kneset_members',\n",
    "                   'Avg_environmental_importance',\n",
    "                   'Avg_education_importance', 'Avg_monthly_household_cost', 'Weighted_education_rank',\n",
    "                   'Overall_happiness_score', 'Avg_size_per_room', 'Avg_Residancy_Altitude']\n",
    "unknown_features = ['Last_school_grades', 'Num_of_kids_born_last_10_years',\n",
    "                    'Avg_monthly_expense_when_under_age_21', 'Avg_lottary_expanses',\n",
    "                    'Avg_monthly_expense_on_pets_or_plants', 'Avg_Satisfaction_with_previous_vote',\n",
    "                    'Phone_minutes_10_years', 'Avg_monthly_income_all_years', 'Political_interest_Total_Score']\n",
    "\n",
    "features_with_negative = {'Avg_monthly_expense_when_under_age_21': 147, 'Avg_lottary_expanses': 152 ,\n",
    "                          'Avg_monthly_income_all_years': 152}"
   ]
  },
  {
   "cell_type": "code",
   "execution_count": null,
   "metadata": {},
   "outputs": [],
   "source": [
    "data = data_original.copy()\n",
    "\n"
   ]
  },
  {
   "cell_type": "code",
   "execution_count": null,
   "metadata": {},
   "outputs": [],
   "source": [
    "data = convert_to_onehot(data, onehot_nominal_features)\n",
    "data"
   ]
  },
  {
   "cell_type": "code",
   "execution_count": null,
   "metadata": {},
   "outputs": [],
   "source": [
    "data = convert_to_categorical(data)\n",
    "data"
   ]
  },
  {
   "cell_type": "code",
   "execution_count": null,
   "metadata": {},
   "outputs": [],
   "source": [
    "# Looks like the negative data is simillar to the distributaion of the data so maybe we need to negate it \n",
    "# instead of removing it\n",
    "for feature in features_with_negative.keys():\n",
    "    plt.figure();\n",
    "    data[feature].hist()\n",
    "    plt.title(feature)\n",
    "    plt.figure();\n",
    "    data.loc[:,feature][data[feature] < 0] = data.loc[:,feature][data[feature] < 0].abs()\n",
    "    data[feature].hist()\n",
    "    plt.title('After negating the negative values')\n",
    "#data.loc[:, features_with_negative.keys()][data.loc[:, features_with_negative.keys()] < 0].hist(figsize=(16,16))\n",
    "# Notice - this does not change the corr between the features"
   ]
  },
  {
   "cell_type": "code",
   "execution_count": null,
   "metadata": {},
   "outputs": [],
   "source": [
    "# Split\n",
    "X_train, y_train, X_val, y_val, X_test, y_test = split_data(data, test_size=0.15, val_size=0.15)"
   ]
  },
  {
   "cell_type": "code",
   "execution_count": null,
   "metadata": {},
   "outputs": [],
   "source": [
    "XY_train = insert_label_to_data(X_train, y_train)\n",
    "\n",
    "\n",
    "print(f'Number of negative values: {(XY_train.dropna().values < 0).sum()}')\n",
    "XY_train = remove_negative(XY_train) # TODO check if removing is good or maybe abs\n",
    "print(f'Number of negative values: {(XY_train.dropna().values < 0).sum()}')\n",
    "\n",
    "print(f'Number of nan before: {XY_train.isnull().values.sum()}')\n",
    "outlier = Outlier(XY_train)\n",
    "XY_train = outlier.remove_outlier(XY_train, 3)\n",
    "print(f'Number of nan after: {XY_train.isnull().values.sum()}')\n"
   ]
  },
  {
   "cell_type": "code",
   "execution_count": null,
   "metadata": {},
   "outputs": [],
   "source": [
    "\n",
    "print(f'Number of nan before: {XY_train.isnull().values.sum()}')\n",
    "imputation = Imputation(XY_train)\n",
    "XY_train = imputation.impute_train(XY_train)\n",
    "print(f'Number of nan after: {XY_train.isnull().values.sum()}')        \n"
   ]
  },
  {
   "cell_type": "code",
   "execution_count": null,
   "metadata": {},
   "outputs": [],
   "source": [
    "print(f'Number of nan before: {X_test.isnull().values.sum() + X_val.isnull().values.sum()}')\n",
    "X_test, X_val = imputation.impute_test_val(X_test, X_val)\n",
    "print(f'Number of nan after: {X_test.isnull().values.sum() + X_val.isnull().values.sum()}')  "
   ]
  },
  {
   "cell_type": "code",
   "execution_count": null,
   "metadata": {},
   "outputs": [],
   "source": [
    "# using pearson correlation to find correlation between all features (this finds only linear relations)\n",
    "import seaborn as sns\n",
    "plt.figure(figsize=(50, 50))\n",
    "cor = XY_train.corr()\n",
    "sns.heatmap(cor, annot=True, cmap=plt.cm.Reds)\n",
    "plt.show()"
   ]
  },
  {
   "cell_type": "code",
   "execution_count": null,
   "metadata": {},
   "outputs": [],
   "source": [
    "cor = cor[abs(cor)>0.2]\n",
    "cor.to_csv('correlation_matrix.csv')"
   ]
  },
  {
   "cell_type": "code",
   "execution_count": null,
   "metadata": {},
   "outputs": [],
   "source": [
    "from test import test_accuracy\n",
    "X_train, y_train = split_label_from_data(XY_train)\n",
    "print(test_accuracy(X_train, y_train, X_val, y_val))"
   ]
  },
  {
   "cell_type": "code",
   "execution_count": null,
   "metadata": {},
   "outputs": [],
   "source": []
  },
  {
   "cell_type": "code",
   "execution_count": null,
   "metadata": {},
   "outputs": [],
   "source": [
    "#Test for SFS algorithem\n",
    "from feature_selection import SFS\n",
    "from sklearn.ensemble import RandomForestClassifier \n",
    "\n",
    "forest = RandomForestClassifier(n_estimators = 3)\n",
    "\n",
    "selected_features = SFS(forest, X_train,y_train,X_val,y_val) \n",
    "selected_features"
   ]
  },
  {
   "cell_type": "code",
   "execution_count": null,
   "metadata": {},
   "outputs": [],
   "source": []
  },
  {
   "cell_type": "code",
   "execution_count": null,
   "metadata": {},
   "outputs": [],
   "source": []
  }
 ],
 "metadata": {
  "kernelspec": {
   "display_name": "Python 3",
   "language": "python",
   "name": "python3"
  },
  "language_info": {
   "codemirror_mode": {
    "name": "ipython",
    "version": 3
   },
   "file_extension": ".py",
   "mimetype": "text/x-python",
   "name": "python",
   "nbconvert_exporter": "python",
   "pygments_lexer": "ipython3",
   "version": "3.7.7"
  }
 },
 "nbformat": 4,
 "nbformat_minor": 4
}
