{
 "cells": [
  {
   "cell_type": "code",
   "execution_count": null,
   "metadata": {},
   "outputs": [],
   "source": [
    "from main import *"
   ]
  },
  {
   "cell_type": "code",
   "execution_count": null,
   "metadata": {},
   "outputs": [],
   "source": [
    "XY_train = pd.read_csv('train_transformed.csv', index_col=0, header=0)\n",
    "XY_val = pd.read_csv('val_transformed.csv', index_col=0, header=0)\n",
    "XY_test = pd.read_csv('test_transformed.csv', index_col=0, header=0)\n",
    "classifiers_params_dict = {RandomForestClassifier: {'n_estimators': list(range(60, 100, 20)),\n",
    "                                                    'min_samples_split': list(range(2, 10, 4)),\n",
    "                                                    'random_state': 2},\n",
    "                           KNeighborsClassifier: {'n_neighbors': list(range(1, 7))},\n",
    "                           SVC: {'kernel': ['linear', 'poly', 'rbf', 'sigmoid']},\n",
    "                           DecisionTreeClassifier: {'min_samples_split': list(range(2, 10, 4))},\n",
    "                           SGDClassifier: {'loss': ['hinge', 'log', 'modified_huber', 'squared_hinge', 'perceptron']},\n",
    "                           GaussianNB: {}}\n",
    "classifiers_params_dict = find_best_params_CV(XY_train, classifiers_params_dict)\n",
    "results = train_and_evaluate(classifiers_params_dict, XY_train, XY_val)  # used to pick best model manually\n",
    "best_clf = RandomForestClassifier\n",
    "XY_train_new = pd.concat([XY_train, XY_val])\n",
    "clf = train_best_classifier(XY_train_new, best_clf, classifiers_params_dict[best_clf])\n",
    "\n",
    "# First prediction\n",
    "X_test, y_test = split_label_from_data(XY_test)\n",
    "y_pred = clf.predict(X_test)\n",
    "accuracy = accuracy_score(y_test, y_pred)\n",
    "conf_mat = confusion_matrix(y_test, y_pred)\n",
    "\n",
    "print(accuracy)\n",
    "print(conf_mat)"
   ]
  }
 ],
 "metadata": {
  "kernelspec": {
   "display_name": "Python 3",
   "language": "python",
   "name": "python3"
  },
  "language_info": {
   "codemirror_mode": {
    "name": "ipython",
    "version": 3
   },
   "file_extension": ".py",
   "mimetype": "text/x-python",
   "name": "python",
   "nbconvert_exporter": "python",
   "pygments_lexer": "ipython3",
   "version": "3.7.7"
  }
 },
 "nbformat": 4,
 "nbformat_minor": 4
}
